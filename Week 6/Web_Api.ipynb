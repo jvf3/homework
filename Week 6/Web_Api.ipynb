{
 "cells": [
  {
   "cell_type": "markdown",
   "id": "a3232fc2",
   "metadata": {},
   "source": [
    "# Homework 6"
   ]
  },
  {
   "cell_type": "code",
   "execution_count": 64,
   "id": "922faefe",
   "metadata": {},
   "outputs": [],
   "source": [
    "import requests\n",
    "import datetime\n",
    "import json\n",
    "import pandas as pd"
   ]
  },
  {
   "cell_type": "markdown",
   "id": "13ea0646",
   "metadata": {},
   "source": [
    "# BINANCE API"
   ]
  },
  {
   "cell_type": "markdown",
   "id": "fd72d996",
   "metadata": {},
   "source": [
    "What is the root URL?"
   ]
  },
  {
   "cell_type": "code",
   "execution_count": 65,
   "id": "836c94ac",
   "metadata": {},
   "outputs": [],
   "source": [
    "root_url_binance = \"https://api.binance.com\""
   ]
  },
  {
   "cell_type": "markdown",
   "id": "48c95e31",
   "metadata": {},
   "source": [
    "What is the endpoint to retrieve klines (open-high-low-close data) for a specific cryptocurrency?"
   ]
  },
  {
   "cell_type": "code",
   "execution_count": 66,
   "id": "3b840939",
   "metadata": {},
   "outputs": [],
   "source": [
    "endpoint_binance = \"api/v3/klines\""
   ]
  },
  {
   "cell_type": "markdown",
   "id": "0b9cd9f8",
   "metadata": {},
   "source": [
    "Specify a request string to retrieve 75 observations of klines data for BTCUSDT since 2022-09-01."
   ]
  },
  {
   "cell_type": "code",
   "execution_count": 67,
   "id": "c8404f05",
   "metadata": {},
   "outputs": [
    {
     "name": "stdout",
     "output_type": "stream",
     "text": [
      "1661990400000\n"
     ]
    }
   ],
   "source": [
    "start_day = int((datetime.datetime(2022,9,1)- datetime.datetime(1970,1,1)).total_seconds())*1000\n",
    "print(start_day)"
   ]
  },
  {
   "cell_type": "code",
   "execution_count": 68,
   "id": "427a66ba",
   "metadata": {},
   "outputs": [
    {
     "name": "stdout",
     "output_type": "stream",
     "text": [
      "https://api.binance.com/api/v3/klines?symbol=BTCUSDT&interval=1m&startTime=1661990400000&limit=75\n"
     ]
    }
   ],
   "source": [
    "request_string = \"{root_url}/{endpoint}?symbol={currencypair}&interval={interval}&startTime={startTime}&limit={limit}\" \\\n",
    "        .format(root_url=root_url_binance,\n",
    "                endpoint=endpoint_binance,\n",
    "                currencypair=\"BTCUSDT\",\n",
    "                interval=\"1m\", \n",
    "                startTime=start_day,\n",
    "                limit=75)\n",
    "print(request_string)\n"
   ]
  },
  {
   "cell_type": "markdown",
   "id": "ef5d3ba3",
   "metadata": {},
   "source": [
    "Write a function (in Python, R or Julia) that retrieves 75 observations of klines data for a generic currency pair since a generic date. The function should take the currency pair and start date as input parameters."
   ]
  },
  {
   "cell_type": "code",
   "execution_count": 69,
   "id": "00b96949",
   "metadata": {},
   "outputs": [],
   "source": [
    "def klinefunc(currency_pair,start_year,start_month,start_day):\n",
    "    start_day = int((datetime.datetime(start_year,start_month,start_day)- datetime.datetime(1970,1,1)).total_seconds())*1000\n",
    "    \n",
    "    url = 'https://api.binance.com/api/v3/klines'\n",
    "\n",
    "    currencyPair = currency_pair\n",
    "    startDate = start_day\n",
    "\n",
    "    params = {'symbol': currencyPair,'startTime': startDate,'interval': '1m',  'limit': 75}\n",
    "      \n",
    "    resp = requests.get(url,params=params)\n",
    "    kline = pd.DataFrame.from_records(resp.json())[[1,2,3,4]]\n",
    "    kline = kline.rename(columns={1: \"Open\", 2: \"High\", 3: \"Low\", 4: \"Close\"})\n",
    "    return kline"
   ]
  },
  {
   "cell_type": "code",
   "execution_count": 70,
   "id": "6c7bcbbd",
   "metadata": {},
   "outputs": [
    {
     "data": {
      "text/html": [
       "<div>\n",
       "<style scoped>\n",
       "    .dataframe tbody tr th:only-of-type {\n",
       "        vertical-align: middle;\n",
       "    }\n",
       "\n",
       "    .dataframe tbody tr th {\n",
       "        vertical-align: top;\n",
       "    }\n",
       "\n",
       "    .dataframe thead th {\n",
       "        text-align: right;\n",
       "    }\n",
       "</style>\n",
       "<table border=\"1\" class=\"dataframe\">\n",
       "  <thead>\n",
       "    <tr style=\"text-align: right;\">\n",
       "      <th></th>\n",
       "      <th>Open</th>\n",
       "      <th>High</th>\n",
       "      <th>Low</th>\n",
       "      <th>Close</th>\n",
       "    </tr>\n",
       "  </thead>\n",
       "  <tbody>\n",
       "    <tr>\n",
       "      <th>0</th>\n",
       "      <td>20048.44000000</td>\n",
       "      <td>20057.33000000</td>\n",
       "      <td>20023.43000000</td>\n",
       "      <td>20025.37000000</td>\n",
       "    </tr>\n",
       "    <tr>\n",
       "      <th>1</th>\n",
       "      <td>20025.06000000</td>\n",
       "      <td>20038.79000000</td>\n",
       "      <td>20004.06000000</td>\n",
       "      <td>20036.92000000</td>\n",
       "    </tr>\n",
       "    <tr>\n",
       "      <th>2</th>\n",
       "      <td>20036.90000000</td>\n",
       "      <td>20077.96000000</td>\n",
       "      <td>20020.22000000</td>\n",
       "      <td>20072.85000000</td>\n",
       "    </tr>\n",
       "    <tr>\n",
       "      <th>3</th>\n",
       "      <td>20072.85000000</td>\n",
       "      <td>20114.85000000</td>\n",
       "      <td>20070.75000000</td>\n",
       "      <td>20112.33000000</td>\n",
       "    </tr>\n",
       "    <tr>\n",
       "      <th>4</th>\n",
       "      <td>20112.34000000</td>\n",
       "      <td>20117.34000000</td>\n",
       "      <td>20082.51000000</td>\n",
       "      <td>20114.18000000</td>\n",
       "    </tr>\n",
       "    <tr>\n",
       "      <th>...</th>\n",
       "      <td>...</td>\n",
       "      <td>...</td>\n",
       "      <td>...</td>\n",
       "      <td>...</td>\n",
       "    </tr>\n",
       "    <tr>\n",
       "      <th>70</th>\n",
       "      <td>20108.70000000</td>\n",
       "      <td>20109.66000000</td>\n",
       "      <td>20090.15000000</td>\n",
       "      <td>20097.75000000</td>\n",
       "    </tr>\n",
       "    <tr>\n",
       "      <th>71</th>\n",
       "      <td>20097.75000000</td>\n",
       "      <td>20108.00000000</td>\n",
       "      <td>20091.11000000</td>\n",
       "      <td>20094.63000000</td>\n",
       "    </tr>\n",
       "    <tr>\n",
       "      <th>72</th>\n",
       "      <td>20094.63000000</td>\n",
       "      <td>20101.77000000</td>\n",
       "      <td>20079.61000000</td>\n",
       "      <td>20098.49000000</td>\n",
       "    </tr>\n",
       "    <tr>\n",
       "      <th>73</th>\n",
       "      <td>20097.35000000</td>\n",
       "      <td>20107.45000000</td>\n",
       "      <td>20090.38000000</td>\n",
       "      <td>20096.35000000</td>\n",
       "    </tr>\n",
       "    <tr>\n",
       "      <th>74</th>\n",
       "      <td>20096.35000000</td>\n",
       "      <td>20097.22000000</td>\n",
       "      <td>20066.12000000</td>\n",
       "      <td>20067.70000000</td>\n",
       "    </tr>\n",
       "  </tbody>\n",
       "</table>\n",
       "<p>75 rows × 4 columns</p>\n",
       "</div>"
      ],
      "text/plain": [
       "              Open            High             Low           Close\n",
       "0   20048.44000000  20057.33000000  20023.43000000  20025.37000000\n",
       "1   20025.06000000  20038.79000000  20004.06000000  20036.92000000\n",
       "2   20036.90000000  20077.96000000  20020.22000000  20072.85000000\n",
       "3   20072.85000000  20114.85000000  20070.75000000  20112.33000000\n",
       "4   20112.34000000  20117.34000000  20082.51000000  20114.18000000\n",
       "..             ...             ...             ...             ...\n",
       "70  20108.70000000  20109.66000000  20090.15000000  20097.75000000\n",
       "71  20097.75000000  20108.00000000  20091.11000000  20094.63000000\n",
       "72  20094.63000000  20101.77000000  20079.61000000  20098.49000000\n",
       "73  20097.35000000  20107.45000000  20090.38000000  20096.35000000\n",
       "74  20096.35000000  20097.22000000  20066.12000000  20067.70000000\n",
       "\n",
       "[75 rows x 4 columns]"
      ]
     },
     "execution_count": 70,
     "metadata": {},
     "output_type": "execute_result"
    }
   ],
   "source": [
    "klinefunc(\"BTCUSDT\",2022,9,1)"
   ]
  },
  {
   "cell_type": "markdown",
   "id": "2bb257ec",
   "metadata": {},
   "source": [
    "# FRED API"
   ]
  },
  {
   "cell_type": "markdown",
   "id": "d076cf07",
   "metadata": {},
   "source": [
    "What is the root URL?"
   ]
  },
  {
   "cell_type": "code",
   "execution_count": 75,
   "id": "3e18fabb",
   "metadata": {},
   "outputs": [],
   "source": [
    "root_url_fred= 'https://api.stlouisfed.org'"
   ]
  },
  {
   "cell_type": "markdown",
   "id": "f74fba12",
   "metadata": {},
   "source": [
    "What is the endpoint to retrieve time series observations?"
   ]
  },
  {
   "cell_type": "code",
   "execution_count": 76,
   "id": "3ededa5c",
   "metadata": {},
   "outputs": [],
   "source": [
    "endpoint_fred = \"fred/series/observations\""
   ]
  },
  {
   "cell_type": "markdown",
   "id": "708bdac2",
   "metadata": {},
   "source": [
    "Construct a query string to retrieve the series of the monthly unemployment rate (seasonally adjusted) since 2020-01. Use the fake API key abc123 in the query string."
   ]
  },
  {
   "cell_type": "code",
   "execution_count": 81,
   "id": "0044a2d0",
   "metadata": {},
   "outputs": [],
   "source": [
    "fake_api_key=\"abc123\""
   ]
  },
  {
   "cell_type": "code",
   "execution_count": 82,
   "id": "e44cc1ad",
   "metadata": {},
   "outputs": [
    {
     "name": "stdout",
     "output_type": "stream",
     "text": [
      "https://api.stlouisfed.org/fred/series/observations?series_id=UNRATE&api_key=abc123&observation_start=2020-01-01&file_type=json\n"
     ]
    }
   ],
   "source": [
    "request_string_fred = \"{root_url}/{endpoint}?series_id={series_id}&api_key={api_key}&observation_start={observation_start}&file_type={file_type}\" \\\n",
    "        .format(root_url=root_url_fred,\n",
    "                endpoint=endpoint_fred,\n",
    "                series_id=\"UNRATE\",\n",
    "                api_key=\"abc123\", \n",
    "                observation_start=\"2020-01-01\",\n",
    "                file_type=\"json\")\n",
    "print(request_string_fred)"
   ]
  }
 ],
 "metadata": {
  "kernelspec": {
   "display_name": "Python 3 (ipykernel)",
   "language": "python",
   "name": "python3"
  },
  "language_info": {
   "codemirror_mode": {
    "name": "ipython",
    "version": 3
   },
   "file_extension": ".py",
   "mimetype": "text/x-python",
   "name": "python",
   "nbconvert_exporter": "python",
   "pygments_lexer": "ipython3",
   "version": "3.9.7"
  }
 },
 "nbformat": 4,
 "nbformat_minor": 5
}
